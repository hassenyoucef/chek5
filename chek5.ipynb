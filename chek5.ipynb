{
 "cells": [
  {
   "cell_type": "code",
   "execution_count": 1,
   "id": "6f45a943",
   "metadata": {},
   "outputs": [
    {
     "data": {
      "text/plain": [
       "'x=1,y=2,z=3'"
      ]
     },
     "execution_count": 1,
     "metadata": {},
     "output_type": "execute_result"
    }
   ],
   "source": [
    "#Question 1:\n",
    "class Point3D:\n",
    "    def __init__(self,x,y,z):\n",
    "        self.x=x\n",
    "        self.y=y\n",
    "        self.z=z\n",
    "    def rtn(self):\n",
    "        return\"x={},y={},z={}\".format(self.x,self.y,self.z)\n",
    "my_point=Point3D(1,2,3)\n",
    "my_point.rtn()"
   ]
  },
  {
   "cell_type": "code",
   "execution_count": 2,
   "id": "a5fb2e1a",
   "metadata": {},
   "outputs": [
    {
     "data": {
      "text/plain": [
       "12"
      ]
     },
     "execution_count": 2,
     "metadata": {},
     "output_type": "execute_result"
    }
   ],
   "source": [
    "#Question 2:\n",
    "class Rectangle:\n",
    "    def __init__(self,length,width):\n",
    "        self.length=length\n",
    "        self.width=width\n",
    "    def area(self):\n",
    "        return self.length*self.width\n",
    "    def perimeter(self):\n",
    "        return (self.length+self.width)*2\n",
    "my_rectangle=Rectangle(4,3)\n",
    "my_rectangle.area()"
   ]
  },
  {
   "cell_type": "code",
   "execution_count": null,
   "id": "f624aa19",
   "metadata": {},
   "outputs": [],
   "source": [
    "#Question 3:\n",
    "class Circle:\n",
    "    def __init__(self,radius,O):\n",
    "        self.radius=radius\n",
    "        self.center=O\n",
    "    def area(self):\n",
    "        return self.radius**2*3.14\n",
    "    def perimeter(self):\n",
    "        return self.radius*2*3.14\n",
    "    def method(self,x,y):\n",
    "        if (x-self.center)**2 + (y-self.center)**2 <= self.radius**2:\n",
    "            print('inside circle')\n",
    "        else:\n",
    "            print(\"outside circle\")\n",
    "x=int(input('give x'))\n",
    "y=int(input('give y'))\n",
    "my_circle=Circle(3,0)\n",
    "my_circle.method(x,y)"
   ]
  },
  {
   "cell_type": "code",
   "execution_count": null,
   "id": "dc207e52",
   "metadata": {},
   "outputs": [],
   "source": [
    "class Bank:\n",
    "    def __init__(self,balance):\n",
    "        self.balance=balance\n",
    "    def deposit(self):\n",
    "        amount=float(input('amount to be deposit'))\n",
    "        self.balance+=amount\n",
    "        print('amount deposited:',amount)\n",
    "    def withdraw(self):\n",
    "        amount=float(input(\"amount to be withdraw\"))\n",
    "        if slef.balance <= amount:\n",
    "            self.balance-=amount\n",
    "            print(\"you withdrew :\",amount)\n",
    "        else :\n",
    "            print(\"insufficient balance\")\n",
    "    def currentamount(self):\n",
    "        print(self.balance)\n",
    "my_bank=Bank(800)\n",
    "my_bank.deposit()"
   ]
  },
  {
   "cell_type": "code",
   "execution_count": null,
   "id": "98746a32",
   "metadata": {},
   "outputs": [],
   "source": []
  },
  {
   "cell_type": "code",
   "execution_count": null,
   "id": "74173afd",
   "metadata": {},
   "outputs": [],
   "source": []
  },
  {
   "cell_type": "code",
   "execution_count": null,
   "id": "85c9426b",
   "metadata": {},
   "outputs": [],
   "source": []
  }
 ],
 "metadata": {
  "kernelspec": {
   "display_name": "Python 3 (ipykernel)",
   "language": "python",
   "name": "python3"
  },
  "language_info": {
   "codemirror_mode": {
    "name": "ipython",
    "version": 3
   },
   "file_extension": ".py",
   "mimetype": "text/x-python",
   "name": "python",
   "nbconvert_exporter": "python",
   "pygments_lexer": "ipython3",
   "version": "3.9.12"
  }
 },
 "nbformat": 4,
 "nbformat_minor": 5
}
